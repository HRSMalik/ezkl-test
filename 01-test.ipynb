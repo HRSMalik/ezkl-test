{
 "cells": [
  {
   "cell_type": "markdown",
   "id": "0b8b2d71",
   "metadata": {},
   "source": [
    "### Model creation and training code for small randomforest model on iris datset"
   ]
  },
  {
   "cell_type": "code",
   "execution_count": null,
   "id": "e5bf48d1",
   "metadata": {},
   "outputs": [],
   "source": [
    "import json\n",
    "import numpy as np\n",
    "from sklearn.datasets import load_iris\n",
    "from sklearn.model_selection import train_test_split\n",
    "from sklearn.ensemble import RandomForestClassifier as Rf\n",
    "import torch\n",
    "import ezkl\n",
    "import os\n",
    "from hummingbird.ml import convert\n",
    "\n",
    "iris = load_iris()\n",
    "X, y = iris.data, iris.target\n",
    "X = X.astype(np.float32)\n",
    "X_train, X_test, y_train, y_test = train_test_split(X, y)\n",
    "clr = Rf()\n",
    "clr.fit(X_train, y_train)\n",
    "\n",
    "\n",
    "\n",
    "torch_rf = convert(clr, 'torch')\n",
    "\n",
    "diffs = []\n",
    "for i in range(len(X_test)):\n",
    "    torch_pred = torch_rf.predict(torch.tensor(X_test[i].reshape(1, -1)))\n",
    "    sk_pred = clr.predict(X_test[i].reshape(1, -1))\n",
    "    diffs.append(torch_pred[0].round() - sk_pred[0])\n",
    "\n",
    "print(\"num diffs\", sum(diffs))\n"
   ]
  },
  {
   "cell_type": "code",
   "execution_count": null,
   "id": "ff13e840",
   "metadata": {},
   "outputs": [],
   "source": [
    "model_path = os.path.join('network.onnx')\n",
    "compiled_model_path = os.path.join('network.compiled')\n",
    "pk_path = os.path.join('test.pk')\n",
    "vk_path = os.path.join('test.vk')\n",
    "settings_path = os.path.join('settings.json')\n",
    "witness_path = os.path.join('witness.json')\n",
    "data_path = os.path.join('input.json')"
   ]
  },
  {
   "cell_type": "markdown",
   "id": "62ede710",
   "metadata": {},
   "source": [
    "### Exporting model "
   ]
  },
  {
   "cell_type": "code",
   "execution_count": null,
   "id": "c69522b2",
   "metadata": {},
   "outputs": [],
   "source": [
    "shape = X_train.shape[1:]\n",
    "x = torch.rand(1, *shape, requires_grad=False)\n",
    "torch_out = torch_rf.predict(x)\n",
    "# Export the model\n",
    "torch.onnx.export(torch_rf.model,               # model being run\n",
    "                  # model input (or a tuple for multiple inputs)\n",
    "                  x,\n",
    "                  # where to save the model (can be a file or file-like object)\n",
    "                  \"network.onnx\",\n",
    "                  export_params=True,        # store the trained parameter weights inside the model file\n",
    "                  opset_version=11,          # the ONNX version to export the model to\n",
    "                  do_constant_folding=True,  # whether to execute constant folding for optimization\n",
    "                  input_names=['input'],   # the model's input names\n",
    "                  output_names=['output'],  # the model's output names\n",
    "                  dynamic_axes={'input': {0: 'batch_size'},    # variable length axes\n",
    "                                'output': {0: 'batch_size'}})\n",
    "\n",
    "d = ((x).detach().numpy()).reshape([-1]).tolist()\n",
    "\n",
    "data = dict(input_shapes=[shape],\n",
    "            input_data=[d],\n",
    "            output_data=[o.reshape([-1]).tolist() for o in torch_out])\n",
    "\n",
    "# Serialize data into file:\n",
    "json.dump(data, open(\"input.json\", 'w'))"
   ]
  },
  {
   "cell_type": "markdown",
   "id": "3af0e7c1",
   "metadata": {},
   "source": [
    "### Generating settings for circuit generation on the basis of model"
   ]
  },
  {
   "cell_type": "code",
   "execution_count": null,
   "id": "aaf05ddb",
   "metadata": {},
   "outputs": [],
   "source": [
    "run_args = ezkl.PyRunArgs()\n",
    "run_args.logrows = 20\n",
    "\n",
    "res = ezkl.gen_settings(model_path, settings_path, py_run_args=run_args)\n",
    "assert res == True\n"
   ]
  },
  {
   "cell_type": "markdown",
   "id": "43dc63b1",
   "metadata": {},
   "source": [
    "### calibrating the circuit setitngs wiht calibration on the bsis of data ranges"
   ]
  },
  {
   "cell_type": "code",
   "execution_count": null,
   "id": "a158225b",
   "metadata": {},
   "outputs": [],
   "source": [
    "cal_path = os.path.join(\"calibration.json\")\n",
    "\n",
    "data_array = (torch.rand(20, *shape, requires_grad=True).detach().numpy()).reshape([-1]).tolist()\n",
    "\n",
    "data = dict(input_data = [data_array])\n",
    "\n",
    "json.dump(data, open(cal_path, 'w'))\n",
    "\n",
    "\n",
    "await ezkl.calibrate_settings(cal_path, model_path, settings_path, \"resources\")"
   ]
  },
  {
   "cell_type": "markdown",
   "id": "4c5a5e11",
   "metadata": {},
   "source": [
    "### Circuit compilation"
   ]
  },
  {
   "cell_type": "code",
   "execution_count": null,
   "id": "59e8e1bf",
   "metadata": {},
   "outputs": [],
   "source": [
    "res = ezkl.compile_circuit(model_path, compiled_model_path, settings_path)\n",
    "assert res == True"
   ]
  },
  {
   "cell_type": "markdown",
   "id": "fbe8272a",
   "metadata": {},
   "source": [
    "### srs path"
   ]
  },
  {
   "cell_type": "code",
   "execution_count": null,
   "id": "77626a64",
   "metadata": {},
   "outputs": [],
   "source": [
    "\n",
    "res = await ezkl.get_srs( settings_path)"
   ]
  },
  {
   "cell_type": "markdown",
   "id": "c774bdd5",
   "metadata": {},
   "source": [
    "### now generate the witness file "
   ]
  },
  {
   "cell_type": "code",
   "execution_count": null,
   "id": "d1406832",
   "metadata": {},
   "outputs": [],
   "source": [
    "\n",
    "\n",
    "res = await ezkl.gen_witness(data_path, compiled_model_path, witness_path)\n",
    "assert os.path.isfile(witness_path)"
   ]
  },
  {
   "cell_type": "markdown",
   "id": "5bef5c13",
   "metadata": {},
   "source": [
    "### HERE WE SETUP THE CIRCUIT PARAMS\n",
    "### WE GOT KEYS\n",
    "### WE GOT CIRCUIT PARAMETERS\n",
    "### EVERYTHING we need FOR ZKP"
   ]
  },
  {
   "cell_type": "code",
   "execution_count": null,
   "id": "178d192e",
   "metadata": {},
   "outputs": [],
   "source": [
    "\n",
    "\n",
    "res = ezkl.setup(\n",
    "        compiled_model_path,\n",
    "        vk_path,\n",
    "        pk_path,\n",
    "        \n",
    "    )\n",
    "\n",
    "assert res == True\n",
    "assert os.path.isfile(vk_path)\n",
    "assert os.path.isfile(pk_path)\n",
    "assert os.path.isfile(settings_path)"
   ]
  },
  {
   "cell_type": "markdown",
   "id": "fbd46dc4",
   "metadata": {},
   "source": [
    "### GENERATE A PROOF"
   ]
  },
  {
   "cell_type": "code",
   "execution_count": null,
   "id": "401a3a2f",
   "metadata": {},
   "outputs": [],
   "source": [
    "proof_path = os.path.join('proof.pf')\n",
    "\n",
    "res = ezkl.prove(\n",
    "        witness_path,\n",
    "        compiled_model_path,\n",
    "        pk_path,\n",
    "        proof_path,\n",
    "        \n",
    "        \"single\",\n",
    "    )\n",
    "\n",
    "print(res)\n",
    "assert os.path.isfile(proof_path)"
   ]
  },
  {
   "cell_type": "markdown",
   "id": "7e273208",
   "metadata": {},
   "source": [
    "### VERIFY proof off-chain "
   ]
  },
  {
   "cell_type": "code",
   "execution_count": null,
   "id": "bfb4cb06",
   "metadata": {},
   "outputs": [],
   "source": [
    "\n",
    "\n",
    "res = ezkl.verify(\n",
    "        proof_path,\n",
    "        settings_path,\n",
    "        vk_path,\n",
    "    )\n",
    "\n",
    "assert res == True\n",
    "print(\"verified\")"
   ]
  }
 ],
 "metadata": {
  "kernelspec": {
   "display_name": "Python 3",
   "language": "python",
   "name": "python3"
  },
  "language_info": {
   "codemirror_mode": {
    "name": "ipython",
    "version": 3
   },
   "file_extension": ".py",
   "mimetype": "text/x-python",
   "name": "python",
   "nbconvert_exporter": "python",
   "pygments_lexer": "ipython3",
   "version": "3.12.9"
  }
 },
 "nbformat": 4,
 "nbformat_minor": 5
}
